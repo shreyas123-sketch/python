{
 "cells": [
  {
   "cell_type": "code",
   "execution_count": 3,
   "id": "9ade9bf4-3ff8-4838-8a06-272971c718f0",
   "metadata": {},
   "outputs": [
    {
     "name": "stdout",
     "output_type": "stream",
     "text": [
      "62 days, 16:54:46.042646\n"
     ]
    }
   ],
   "source": [
    "from datetime import datetime\n",
    "now = datetime.now()\n",
    "new_year = datetime(now.year + 1, 1, 1)\n",
    "time_difference = new_year - now\n",
    "print(time_difference)\n"
   ]
  },
  {
   "cell_type": "code",
   "execution_count": 5,
   "id": "9f27bede-86e1-4690-b00a-200a64bdded9",
   "metadata": {},
   "outputs": [
    {
     "name": "stdout",
     "output_type": "stream",
     "text": [
      "19961 days, 8:01:57.281340\n"
     ]
    }
   ],
   "source": [
    "from datetime import datetime\n",
    "start_date = datetime(1970, 1, 1)\n",
    "now = datetime.now()\n",
    "time_difference = now - start_date\n",
    "print(time_difference)\n"
   ]
  },
  {
   "cell_type": "code",
   "execution_count": 7,
   "id": "145ce807-8084-4fba-9e3b-9ba23e95e9cb",
   "metadata": {},
   "outputs": [
    {
     "name": "stdout",
     "output_type": "stream",
     "text": [
      "2\n",
      "4\n",
      "6\n",
      "8\n",
      "10\n",
      "12\n",
      "14\n",
      "16\n",
      "18\n",
      "20\n",
      "22\n",
      "24\n",
      "26\n",
      "28\n",
      "30\n",
      "32\n",
      "34\n",
      "36\n",
      "38\n",
      "40\n",
      "42\n",
      "44\n",
      "46\n",
      "48\n",
      "50\n",
      "52\n",
      "54\n",
      "56\n",
      "58\n",
      "60\n",
      "62\n",
      "64\n",
      "66\n",
      "68\n",
      "70\n",
      "72\n",
      "74\n",
      "76\n",
      "78\n",
      "80\n",
      "82\n",
      "84\n",
      "86\n",
      "88\n",
      "90\n",
      "92\n",
      "94\n",
      "96\n",
      "98\n",
      "100\n"
     ]
    }
   ],
   "source": [
    "for number in range(1, 101):\n",
    "    if number % 2 == 0:\n",
    "        print(number)\n"
   ]
  },
  {
   "cell_type": "code",
   "execution_count": 9,
   "id": "8d948bef-b705-4d9b-9401-d483d5c86b64",
   "metadata": {},
   "outputs": [
    {
     "name": "stdout",
     "output_type": "stream",
     "text": [
      "Sum of all even numbers: 2550\n",
      "Sum of all odd numbers: 2500\n"
     ]
    }
   ],
   "source": [
    "sum_even = 0\n",
    "sum_odd = 0\n",
    "for number in range(101):\n",
    "    if number % 2 == 0:  \n",
    "        sum_even += number\n",
    "    else: \n",
    "        sum_odd += number\n",
    "print(\"Sum of all even numbers:\", sum_even)\n",
    "print(\"Sum of all odd numbers:\", sum_odd)\n"
   ]
  },
  {
   "cell_type": "code",
   "execution_count": 13,
   "id": "0f4d8fb1-c015-4f4b-902f-76f59f83e847",
   "metadata": {},
   "outputs": [
    {
     "name": "stdin",
     "output_type": "stream",
     "text": [
      "Enter a string:  dinesh\n"
     ]
    },
    {
     "name": "stdout",
     "output_type": "stream",
     "text": [
      "Total number of vowels: 2\n"
     ]
    }
   ],
   "source": [
    "user_input = input(\"Enter a string: \")\n",
    "vowel_count = 0\n",
    "vowels = \"aeiouAEIOU\"\n",
    "for char in user_input:\n",
    "    if char in vowels:\n",
    "        vowel_count += 1\n",
    "print(\"Total number of vowels:\", vowel_count)\n"
   ]
  },
  {
   "cell_type": "code",
   "execution_count": 15,
   "id": "c9bc6e29-4cf7-4d6f-a62d-c0bde3b54d3d",
   "metadata": {},
   "outputs": [
    {
     "name": "stdin",
     "output_type": "stream",
     "text": [
      "Enter a number (or type 'done' to finish):  1\n",
      "Enter a number (or type 'done' to finish):  1\n",
      "Enter a number (or type 'done' to finish):  1\n",
      "Enter a number (or type 'done' to finish):  1\n",
      "Enter a number (or type 'done' to finish):  1\n",
      "Enter a number (or type 'done' to finish):  1\n",
      "Enter a number (or type 'done' to finish):  done\n"
     ]
    },
    {
     "name": "stdout",
     "output_type": "stream",
     "text": [
      "The sum of all entered numbers is: 6.0\n"
     ]
    }
   ],
   "source": [
    "total_sum = 0\n",
    "while True:\n",
    "    user_input = input(\"Enter a number (or type 'done' to finish): \")\n",
    "    if user_input.lower() == 'done':\n",
    "        break\n",
    "    try:\n",
    "        number = float(user_input)\n",
    "        total_sum += number\n",
    "    except ValueError:\n",
    "        print(\"Invalid input. Please enter a valid number.\")\n",
    "print(\"The sum of all entered numbers is:\", total_sum)\n"
   ]
  },
  {
   "cell_type": "code",
   "execution_count": 17,
   "id": "0d5ef1bc-3b51-4c9e-bbc3-d94f7ab221c7",
   "metadata": {},
   "outputs": [
    {
     "name": "stdin",
     "output_type": "stream",
     "text": [
      "Enter an integer:  2\n"
     ]
    },
    {
     "name": "stdout",
     "output_type": "stream",
     "text": [
      "Multiplication table for 2:\n",
      "2 x 1 = 2\n",
      "2 x 2 = 4\n",
      "2 x 3 = 6\n",
      "2 x 4 = 8\n",
      "2 x 5 = 10\n",
      "2 x 6 = 12\n",
      "2 x 7 = 14\n",
      "2 x 8 = 16\n",
      "2 x 9 = 18\n",
      "2 x 10 = 20\n"
     ]
    }
   ],
   "source": [
    "number = int(input(\"Enter an integer: \"))\n",
    "print(f\"Multiplication table for {number}:\")\n",
    "for i in range(1, 11):\n",
    "    result = number * i\n",
    "    print(f\"{number} x {i} = {result}\")"
   ]
  },
  {
   "cell_type": "code",
   "execution_count": 21,
   "id": "8142ffc5-6682-4ed9-8718-b9a259db0e96",
   "metadata": {},
   "outputs": [
    {
     "name": "stdin",
     "output_type": "stream",
     "text": [
      "Enter a positive integer:  4\n"
     ]
    },
    {
     "name": "stdout",
     "output_type": "stream",
     "text": [
      "The factorial of 4 is 24\n"
     ]
    }
   ],
   "source": [
    "number = int(input(\"Enter a positive integer: \"))\n",
    "factorial = 1\n",
    "counter = number\n",
    "while counter > 0:\n",
    "    factorial *= counter\n",
    "    counter -= 1\n",
    "print(f\"The factorial of {number} is {factorial}\")\n"
   ]
  },
  {
   "cell_type": "code",
   "execution_count": 7,
   "id": "1c41f2f8-6e78-4cd3-8493-9772d39bd04a",
   "metadata": {},
   "outputs": [
    {
     "name": "stdin",
     "output_type": "stream",
     "text": [
      "Enter Number: 1\n",
      "Enter Number: 2\n",
      "Enter Number: done\n"
     ]
    },
    {
     "name": "stdout",
     "output_type": "stream",
     "text": [
      "Sum of all number entered: 3\n"
     ]
    }
   ],
   "source": [
    " sum=0\n",
    " while True:\n",
    "    n=input(\"Enter Number:\").lower()\n",
    "    if n == \"done\":\n",
    "        print(\"Sum of all number entered:\",sum)\n",
    "        break\n",
    "    else:\n",
    "        no=int(n)\n",
    "        sum=sum+no \n"
   ]
  },
  {
   "cell_type": "code",
   "execution_count": null,
   "id": "3a430822-8a02-4be2-9a18-3bfadd98ac3c",
   "metadata": {},
   "outputs": [
    {
     "name": "stdin",
     "output_type": "stream",
     "text": [
      "Enter a number (or type 'done' to finish):  1\n",
      "Enter a number (or type 'done' to finish):  2\n",
      "Enter a number (or type 'done' to finish):  done\n"
     ]
    }
   ],
   "source": [
    "total_sum = 0\n",
    "while True:\n",
    " user_input = input(\"Enter a number (or type 'done' to finish): \")\n",
    "if user_input.lower() == 'done':\n",
    "        break\n",
    "try:\n",
    " number = float(user_input)\n",
    " total_sum += number\n",
    "except ValueError:\n",
    "    print(\"Please enter a valid number.\")\n",
    "print(f\"The sum of all the entered numbers is: {total_sum}\")"
   ]
  },
  {
   "cell_type": "code",
   "execution_count": 5,
   "id": "5daec4e7-0477-4c04-a60b-1c9dc8bd3b71",
   "metadata": {},
   "outputs": [
    {
     "name": "stdout",
     "output_type": "stream",
     "text": [
      "1\n",
      "2\n",
      "3\n",
      "4\n",
      "5\n"
     ]
    }
   ],
   "source": [
    "numbers=[1,2,3,4,5]\n",
    "for i in range(len(numbers)):\n",
    "    print(numbers[i])"
   ]
  },
  {
   "cell_type": "code",
   "execution_count": 22,
   "id": "1d5bfd69-5a9d-4b50-9791-bcb5b29963ab",
   "metadata": {},
   "outputs": [
    {
     "name": "stdin",
     "output_type": "stream",
     "text": [
      "Enter your age:  21\n"
     ]
    },
    {
     "ename": "TypeError",
     "evalue": "'<=' not supported between instances of 'str' and 'int'",
     "output_type": "error",
     "traceback": [
      "\u001b[1;31m---------------------------------------------------------------------------\u001b[0m",
      "\u001b[1;31mTypeError\u001b[0m                                 Traceback (most recent call last)",
      "Cell \u001b[1;32mIn[22], line 3\u001b[0m\n\u001b[0;32m      1\u001b[0m age\u001b[38;5;241m=\u001b[39m\u001b[38;5;28minput\u001b[39m(\u001b[38;5;124m\"\u001b[39m\u001b[38;5;124mEnter your age: \u001b[39m\u001b[38;5;124m\"\u001b[39m)\n\u001b[1;32m----> 3\u001b[0m \u001b[38;5;28;01mif\u001b[39;00m age\u001b[38;5;241m<\u001b[39m\u001b[38;5;241m=\u001b[39m\u001b[38;5;241m18\u001b[39m:\n\u001b[0;32m      5\u001b[0m     \u001b[38;5;28mprint\u001b[39m(\u001b[38;5;124m\"\u001b[39m\u001b[38;5;124mYou are a minor.\u001b[39m\u001b[38;5;124m\"\u001b[39m)\n\u001b[0;32m      7\u001b[0m \u001b[38;5;28;01melse\u001b[39;00m: \n",
      "\u001b[1;31mTypeError\u001b[0m: '<=' not supported between instances of 'str' and 'int'"
     ]
    }
   ],
   "source": [
    "\n",
    "age=input(\"Enter your age: \")\n",
    "\n",
    "if age<=18:\n",
    "\n",
    "    print(\"You are a minor.\")\n",
    "\n",
    "else: \n",
    "\n",
    "    print(\"You are an adult\")"
   ]
  },
  {
   "cell_type": "code",
   "execution_count": null,
   "id": "85ac06f2-5920-4917-a50c-7cf7191ac2a1",
   "metadata": {},
   "outputs": [],
   "source": []
  },
  {
   "cell_type": "code",
   "execution_count": null,
   "id": "671ff249-90e1-484a-9cc2-1ef784cd376f",
   "metadata": {},
   "outputs": [],
   "source": []
  }
 ],
 "metadata": {
  "kernelspec": {
   "display_name": "Python 3 (ipykernel)",
   "language": "python",
   "name": "python3"
  },
  "language_info": {
   "codemirror_mode": {
    "name": "ipython",
    "version": 3
   },
   "file_extension": ".py",
   "mimetype": "text/x-python",
   "name": "python",
   "nbconvert_exporter": "python",
   "pygments_lexer": "ipython3",
   "version": "3.12.4"
  }
 },
 "nbformat": 4,
 "nbformat_minor": 5
}
