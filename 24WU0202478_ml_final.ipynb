{
 "cells": [
  {
   "cell_type": "code",
   "execution_count": 20,
   "id": "a5aeafc1-9da2-4fd9-a47a-ca2b1ee32a39",
   "metadata": {},
   "outputs": [],
   "source": [
    "import pandas as pd\n",
    "import numpy as np\n",
    "from sklearn.model_selection import train_test_split\n",
    "from sklearn.preprocessing import LabelEncoder\n",
    "from sklearn.ensemble import RandomForestClassifier\n",
    "import joblib\n",
    "import gradio as gr\n",
    "\n",
    "# Load dataset\n",
    "df = pd.read_csv(\"HR-Employee-Attrition.csv\")\n"
   ]
  },
  {
   "cell_type": "code",
   "execution_count": 22,
   "id": "6d43203a-6c76-40ad-8a02-99757816c6ea",
   "metadata": {},
   "outputs": [
    {
     "data": {
      "text/plain": [
       "['employee_attrition_model.pkl']"
      ]
     },
     "execution_count": 22,
     "metadata": {},
     "output_type": "execute_result"
    }
   ],
   "source": [
    "# Drop irrelevant columns\n",
    "df = df.drop(columns=[\"EmployeeNumber\", \"Over18\", \"StandardHours\", \"EmployeeCount\"])\n",
    "\n",
    "# Encode categorical columns\n",
    "le = LabelEncoder()\n",
    "df[\"OverTime\"] = le.fit_transform(df[\"OverTime\"])  # Yes=1, No=0\n",
    "\n",
    "# Selected 8 input features\n",
    "selected_features = [\n",
    "    \"Age\",\n",
    "    \"MonthlyIncome\",\n",
    "    \"DistanceFromHome\",\n",
    "    \"JobSatisfaction\",\n",
    "    \"YearsAtCompany\",\n",
    "    \"WorkLifeBalance\",\n",
    "    \"EnvironmentSatisfaction\",\n",
    "    \"OverTime\"\n",
    "]\n",
    "\n",
    "X = df[selected_features]\n",
    "y = LabelEncoder().fit_transform(df[\"Attrition\"])  # Yes=1, No=0\n",
    "\n",
    "# Train/test split\n",
    "X_train, X_test, y_train, y_test = train_test_split(X, y, test_size=0.2, random_state=42)\n",
    "\n",
    "# Train model\n",
    "model = RandomForestClassifier(n_estimators=100, random_state=42)\n",
    "model.fit(X_train, y_train)\n",
    "\n",
    "# Save the model\n",
    "joblib.dump(model, \"employee_attrition_model.pkl\")\n"
   ]
  },
  {
   "cell_type": "code",
   "execution_count": 24,
   "id": "2eee2ce2-d751-4b63-ac22-f30adfb8c159",
   "metadata": {},
   "outputs": [],
   "source": [
    "def predict_attrition(age, monthly_income, distance_from_home, job_satisfaction,\n",
    "                      years_at_company, work_life_balance, environment_satisfaction, overtime):\n",
    "    overtime_encoded = 1 if overtime.lower() == \"yes\" else 0\n",
    "\n",
    "    input_data = np.array([[age, monthly_income, distance_from_home, job_satisfaction,\n",
    "                            years_at_company, work_life_balance, environment_satisfaction,\n",
    "                            overtime_encoded]])\n",
    "\n",
    "    model = joblib.load(\"employee_attrition_model.pkl\")\n",
    "    prediction = model.predict(input_data)[0]\n",
    "    \n",
    "    return \"Attrition: Yes\" if prediction == 1 else \"Attrition: No\"\n"
   ]
  },
  {
   "cell_type": "code",
   "execution_count": 26,
   "id": "d9fd5a3b-1992-4e6c-9350-783c5a11b446",
   "metadata": {},
   "outputs": [
    {
     "name": "stdout",
     "output_type": "stream",
     "text": [
      "* Running on local URL:  http://127.0.0.1:7861\n",
      "* To create a public link, set `share=True` in `launch()`.\n"
     ]
    },
    {
     "data": {
      "text/html": [
       "<div><iframe src=\"http://127.0.0.1:7861/\" width=\"100%\" height=\"500\" allow=\"autoplay; camera; microphone; clipboard-read; clipboard-write;\" frameborder=\"0\" allowfullscreen></iframe></div>"
      ],
      "text/plain": [
       "<IPython.core.display.HTML object>"
      ]
     },
     "metadata": {},
     "output_type": "display_data"
    },
    {
     "data": {
      "text/plain": []
     },
     "execution_count": 26,
     "metadata": {},
     "output_type": "execute_result"
    }
   ],
   "source": [
    "demo = gr.Interface(\n",
    "    fn=predict_attrition,\n",
    "    inputs=[\n",
    "        gr.Slider(18, 60, step=1, label=\"Age\"),\n",
    "        gr.Slider(1000, 20000, step=500, label=\"Monthly Income\"),\n",
    "        gr.Slider(1, 30, step=1, label=\"Distance From Home\"),\n",
    "        gr.Slider(1, 4, step=1, label=\"Job Satisfaction\"),\n",
    "        gr.Slider(0, 40, step=1, label=\"Years at Company\"),\n",
    "        gr.Slider(1, 4, step=1, label=\"Work Life Balance\"),\n",
    "        gr.Slider(1, 4, step=1, label=\"Environment Satisfaction\"),\n",
    "        gr.Radio([\"Yes\", \"No\"], label=\"OverTime\")\n",
    "    ],\n",
    "    outputs=\"text\",\n",
    "    title=\"Employee Attrition Prediction\",\n",
    "    description=\"Enter employee details to predict attrition risk.\"\n",
    ")\n",
    "\n",
    "demo.launch()\n"
   ]
  },
  {
   "cell_type": "code",
   "execution_count": 28,
   "id": "4dd91cd7-127d-47c0-b53a-2916bd47c8d1",
   "metadata": {},
   "outputs": [
    {
     "name": "stderr",
     "output_type": "stream",
     "text": [
      "C:\\Users\\User\\anaconda3\\Lib\\site-packages\\sklearn\\base.py:493: UserWarning: X does not have valid feature names, but RandomForestClassifier was fitted with feature names\n",
      "  warnings.warn(\n"
     ]
    },
    {
     "data": {
      "text/plain": [
       "'Attrition: No'"
      ]
     },
     "execution_count": 28,
     "metadata": {},
     "output_type": "execute_result"
    }
   ],
   "source": [
    "predict_attrition(\n",
    "    age=29,\n",
    "    monthly_income=6500,\n",
    "    distance_from_home=8,\n",
    "    job_satisfaction=3,\n",
    "    years_at_company=4,\n",
    "    work_life_balance=2,\n",
    "    environment_satisfaction=3,\n",
    "    overtime=\"Yes\"\n",
    ")\n"
   ]
  },
  {
   "cell_type": "code",
   "execution_count": 30,
   "id": "8897eaef-3460-41b7-b3ff-85b2b658c275",
   "metadata": {},
   "outputs": [
    {
     "name": "stderr",
     "output_type": "stream",
     "text": [
      "C:\\Users\\User\\anaconda3\\Lib\\site-packages\\sklearn\\base.py:493: UserWarning: X does not have valid feature names, but RandomForestClassifier was fitted with feature names\n",
      "  warnings.warn(\n"
     ]
    },
    {
     "data": {
      "text/plain": [
       "'Attrition: Yes'"
      ]
     },
     "execution_count": 30,
     "metadata": {},
     "output_type": "execute_result"
    }
   ],
   "source": [
    "predict_attrition(\n",
    "    age=25,\n",
    "    monthly_income=3000,\n",
    "    distance_from_home=25,\n",
    "    job_satisfaction=1,\n",
    "    years_at_company=1,\n",
    "    work_life_balance=1,\n",
    "    environment_satisfaction=1,\n",
    "    overtime=\"Yes\"\n",
    ")\n"
   ]
  },
  {
   "cell_type": "code",
   "execution_count": null,
   "id": "78e878c7-ef88-40c2-bc84-8ee1b2601026",
   "metadata": {},
   "outputs": [],
   "source": []
  }
 ],
 "metadata": {
  "kernelspec": {
   "display_name": "Python 3 (ipykernel)",
   "language": "python",
   "name": "python3"
  },
  "language_info": {
   "codemirror_mode": {
    "name": "ipython",
    "version": 3
   },
   "file_extension": ".py",
   "mimetype": "text/x-python",
   "name": "python",
   "nbconvert_exporter": "python",
   "pygments_lexer": "ipython3",
   "version": "3.12.4"
  }
 },
 "nbformat": 4,
 "nbformat_minor": 5
}
