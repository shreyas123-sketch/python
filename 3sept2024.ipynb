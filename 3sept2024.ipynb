{
 "cells": [
  {
   "cell_type": "code",
   "execution_count": null,
   "id": "5c4caf9a-58cf-42e6-9bf2-3bdad261e197",
   "metadata": {},
   "outputs": [],
   "source": [
    "#Syntax\n",
    "#pip install pip\n",
    "#check if pip is installed by writing\n",
    "#pip-version\n",
    "#pip uninstall package name"
   ]
  },
  {
   "cell_type": "code",
   "execution_count": 7,
   "id": "73f37cd4-c032-4962-beb4-f666235ae7bc",
   "metadata": {},
   "outputs": [
    {
     "name": "stdout",
     "output_type": "stream",
     "text": [
      "Requirement already satisfied: numpy in c:\\users\\user\\anaconda3\\lib\\site-packages (1.26.4)Note: you may need to restart the kernel to use updated packages.\n",
      "\n"
     ]
    }
   ],
   "source": [
    "pip install numpy\n",
    "!pip install numpy"
   ]
  },
  {
   "cell_type": "code",
   "execution_count": 9,
   "id": "5b98f3fd-5a98-45f0-be05-c2a67accb531",
   "metadata": {},
   "outputs": [
    {
     "ename": "SyntaxError",
     "evalue": "invalid syntax (3716164084.py, line 1)",
     "output_type": "error",
     "traceback": [
      "\u001b[1;36m  Cell \u001b[1;32mIn[9], line 1\u001b[1;36m\u001b[0m\n\u001b[1;33m    pip install pandas\u001b[0m\n\u001b[1;37m        ^\u001b[0m\n\u001b[1;31mSyntaxError\u001b[0m\u001b[1;31m:\u001b[0m invalid syntax\n"
     ]
    }
   ],
   "source": [
    "pip install pandas\n",
    "import pandas as pd"
   ]
  },
  {
   "cell_type": "code",
   "execution_count": 15,
   "id": "ee96850e-feaa-44b6-81b8-177350ba1e4e",
   "metadata": {},
   "outputs": [
    {
     "name": "stdout",
     "output_type": "stream",
     "text": [
      "pip 24.0 from C:\\Users\\User\\anaconda3\\Lib\\site-packages\\pip (python 3.12)\n",
      "\n",
      "Note: you may need to restart the kernel to use updated packages.\n"
     ]
    }
   ],
   "source": [
    "pip--version\n"
   ]
  },
  {
   "cell_type": "code",
   "execution_count": 17,
   "id": "d9a9856b-bffd-42c3-8e61-2d7670955bd8",
   "metadata": {},
   "outputs": [
    {
     "ename": "NameError",
     "evalue": "name 'numpy' is not defined",
     "output_type": "error",
     "traceback": [
      "\u001b[1;31m---------------------------------------------------------------------------\u001b[0m",
      "\u001b[1;31mNameError\u001b[0m                                 Traceback (most recent call last)",
      "Cell \u001b[1;32mIn[17], line 2\u001b[0m\n\u001b[0;32m      1\u001b[0m lst\u001b[38;5;241m=\u001b[39m[\u001b[38;5;241m1\u001b[39m,\u001b[38;5;241m2\u001b[39m,\u001b[38;5;241m3\u001b[39m,\u001b[38;5;241m4\u001b[39m,\u001b[38;5;241m5\u001b[39m]\n\u001b[1;32m----> 2\u001b[0m np_arr\u001b[38;5;241m=\u001b[39mnumpy\u001b[38;5;241m.\u001b[39marray(lst)\n\u001b[0;32m      3\u001b[0m np_arr\n\u001b[0;32m      4\u001b[0m array([\u001b[38;5;241m1\u001b[39m,\u001b[38;5;241m2\u001b[39m,\u001b[38;5;241m3\u001b[39m,\u001b[38;5;241m4\u001b[39m,\u001b[38;5;241m5\u001b[39m])\n",
      "\u001b[1;31mNameError\u001b[0m: name 'numpy' is not defined"
     ]
    }
   ],
   "source": [
    "lst=[1,2,3,4,5]\n",
    "np_arr=numpy.array(lst)\n",
    "np_arr\n",
    "array([1,2,3,4,5])\n",
    "len(np_arr)\n",
    "5\n",
    "np_arr*2\n",
    "array([2,4,6,8,10])\n",
    "np_arr+2\n",
    "array([3,4,5,6,7])"
   ]
  },
  {
   "cell_type": "code",
   "execution_count": 25,
   "id": "b286feea-c40a-48f6-8179-7fcad5d811ea",
   "metadata": {},
   "outputs": [],
   "source": [
    "import webbrowser # web browser module to open websites\n",
    "# list of urls:python\n",
    "url_lists=[\n",
    "    'https://www.python.org',\n",
    "    'https://www.linkediin.com/in/Raju/',\n",
    "    'https://github.com/Raju',\n",
    "    'https://twitter.com/Raju',\n",
    "]\n",
    "#opens the above list of websites in a different tab\n",
    "for url in url_lists:\n",
    "    webbrowser.open_new_tab(url)"
   ]
  },
  {
   "cell_type": "code",
   "execution_count": 37,
   "id": "4680b16c-d132-46e0-a038-5fd9e8857827",
   "metadata": {},
   "outputs": [
    {
     "data": {
      "text/plain": [
       "'12:0PM IST | 03 Sep, 2024'"
      ]
     },
     "execution_count": 37,
     "metadata": {},
     "output_type": "execute_result"
    }
   ],
   "source": [
    "from bs4 import BeautifulSoup as BS\n",
    "import requests\n",
    "url = \"https://economictimes.indiatimes.com/commoditysummary/symbol-GOLD.cms\"\n",
    "date=[]\n",
    "price=[]\n",
    "data=requests.get(url)\n",
    "soup=BS(data.text,'html.parser')\n",
    "dat=soup.find(\"p\",class_=\"datetime\").text.strip()\n",
    "dat\n",
    "'12:0PM IST | 03 Sep, 2024'"
   ]
  },
  {
   "cell_type": "code",
   "execution_count": null,
   "id": "8e271137-e675-48ca-8ecf-a73f88193388",
   "metadata": {},
   "outputs": [],
   "source": [
    "from bs4 import BeautifulSoup as BS\n",
    "import requests\n",
    "url = \"https://economictimes.indiatimes.com/commoditysummary/symbol-GOLD.cms\"\n",
    "date=[]\n",
    "price=[]\n",
    "data=requests.get(url)\n",
    "soup=BS(data.text,'html.parser')\n",
    "soup"
   ]
  },
  {
   "cell_type": "code",
   "execution_count": 22,
   "id": "ae74a507-21c8-4cf7-92d2-c1cb4249dae8",
   "metadata": {},
   "outputs": [
    {
     "name": "stdout",
     "output_type": "stream",
     "text": [
      "    S.No.  MTE (25)  Mini Project (25)  Total (50)  ETE (50)  Total\n",
      "0       1      5.00                 20       25.00      12.0  37.00\n",
      "1       2     11.05                 20       31.05      26.0  57.05\n",
      "2       3      8.10                 20       28.10      14.0  42.10\n",
      "3       4      6.00                 10       16.00      13.0  29.00\n",
      "4       5     11.35                 20       31.35      17.0  48.35\n",
      "..    ...       ...                ...         ...       ...    ...\n",
      "74     75     12.05                 10       22.05      20.0  42.05\n",
      "75     76     12.25                 10       22.25      28.0  50.25\n",
      "76     77      1.75                 10       11.75       NaN   0.00\n",
      "77     78      3.00                 10       13.00       NaN   0.00\n",
      "78     79      5.80                 10       15.80      12.0  27.80\n",
      "\n",
      "[79 rows x 6 columns]\n"
     ]
    }
   ],
   "source": [
    "import pandas as pd\n",
    "import numpy as np\n",
    "table = pd.read_excel(r\"C:\\Users\\User\\Downloads\\IBM-313 Marks.xlsx\")\n",
    "print(table)"
   ]
  },
  {
   "cell_type": "code",
   "execution_count": 34,
   "id": "05db4c16-3ce0-4141-ba83-784ea261e611",
   "metadata": {},
   "outputs": [
    {
     "data": {
      "text/plain": [
       "46.90632911392405"
      ]
     },
     "execution_count": 34,
     "metadata": {},
     "output_type": "execute_result"
    }
   ],
   "source": [
    "#mean\n",
    "x=table['Total']\n",
    "np.mean(x)\n"
   ]
  },
  {
   "cell_type": "code",
   "execution_count": 36,
   "id": "9515068f-feb0-4eb9-bb40-c931b78b00d8",
   "metadata": {},
   "outputs": [
    {
     "data": {
      "text/plain": [
       "45.0"
      ]
     },
     "execution_count": 36,
     "metadata": {},
     "output_type": "execute_result"
    }
   ],
   "source": [
    "#mean\n",
    "x=table['Total']\n",
    "np.median(x)"
   ]
  },
  {
   "cell_type": "code",
   "execution_count": 38,
   "id": "6449088c-40be-4598-948e-85f79199facc",
   "metadata": {},
   "outputs": [
    {
     "data": {
      "text/plain": [
       "0     0.00\n",
       "1    38.00\n",
       "2    39.70\n",
       "3    41.00\n",
       "4    42.70\n",
       "5    43.50\n",
       "6    48.35\n",
       "Name: Total, dtype: float64"
      ]
     },
     "execution_count": 38,
     "metadata": {},
     "output_type": "execute_result"
    }
   ],
   "source": [
    "#mean\n",
    "x=table['Total']\n",
    "x.mode()"
   ]
  },
  {
   "cell_type": "code",
   "execution_count": 40,
   "id": "1207a20f-05e6-46f2-b2ae-ff7854c57732",
   "metadata": {},
   "outputs": [
    {
     "name": "stdout",
     "output_type": "stream",
     "text": [
      "[1 2 3 4 5]\n"
     ]
    }
   ],
   "source": [
    "a=np.array([1,2,3,4,5])\n",
    "print(a)"
   ]
  },
  {
   "cell_type": "code",
   "execution_count": 42,
   "id": "9d740ced-c20d-44e3-b52d-64996989332c",
   "metadata": {},
   "outputs": [
    {
     "name": "stdout",
     "output_type": "stream",
     "text": [
      "3.0\n"
     ]
    }
   ],
   "source": [
    "#percentile\n",
    "a=np.array([1,2,3,4,5])\n",
    "p=np.percentile(a,50) #return 50th percentile, eg median\n",
    "print(p)"
   ]
  },
  {
   "cell_type": "code",
   "execution_count": 44,
   "id": "42d17a03-de29-4080-9570-0b414cbad533",
   "metadata": {},
   "outputs": [
    {
     "name": "stdout",
     "output_type": "stream",
     "text": [
      "['Ram', 65, 2.5]\n"
     ]
    }
   ],
   "source": [
    "#example of for loop\n",
    "k = ['Ram',65,2.5]\n",
    "print(k)"
   ]
  },
  {
   "cell_type": "code",
   "execution_count": 46,
   "id": "8149e630-4ace-4b53-a88d-eda1caabba1d",
   "metadata": {},
   "outputs": [],
   "source": [
    "import pandas as pd\n",
    "import numpy as np\n",
    "import matplotlib.pyplot as plt\n"
   ]
  },
  {
   "cell_type": "code",
   "execution_count": 52,
   "id": "823250eb-8d01-4ce1-9235-ad32a9f70b4d",
   "metadata": {},
   "outputs": [],
   "source": [
    "df=pd.read_csv(r\"C:\\Users\\User\\Downloads\\five year dataset.csv\")\n"
   ]
  },
  {
   "cell_type": "code",
   "execution_count": null,
   "id": "65fc5f71-2d54-4008-82d5-5d8e7e25d070",
   "metadata": {},
   "outputs": [],
   "source": []
  }
 ],
 "metadata": {
  "kernelspec": {
   "display_name": "Python 3 (ipykernel)",
   "language": "python",
   "name": "python3"
  },
  "language_info": {
   "codemirror_mode": {
    "name": "ipython",
    "version": 3
   },
   "file_extension": ".py",
   "mimetype": "text/x-python",
   "name": "python",
   "nbconvert_exporter": "python",
   "pygments_lexer": "ipython3",
   "version": "3.12.4"
  }
 },
 "nbformat": 4,
 "nbformat_minor": 5
}
