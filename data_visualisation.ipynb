{
 "cells": [
  {
   "cell_type": "code",
   "execution_count": 1,
   "id": "e4351cfd-fd84-42dc-b19a-6971d3515e18",
   "metadata": {},
   "outputs": [],
   "source": [
    "\n",
    "import pandas as pd\n",
    "import numpy as np\n",
    "import random\n",
    "import matplotlib.pyplot as plt\n",
    "import seaborn as sns\n",
    "from sklearn.model_selection import train_test_split\n",
    "from sklearn.linear_model import LinearRegression\n",
    "from sklearn.ensemble import RandomForestRegressor, RandomForestClassifier\n",
    "from sklearn.naive_bayes import GaussianNB\n",
    "from sklearn.svm import SVC\n",
    "from sklearn.tree import DecisionTreeClassifier\n",
    "from sklearn.neighbors import KNeighborsClassifier\n",
    "from sklearn.metrics import mean_squared_error, r2_score, accuracy_score, classification_report, confusion_matrix"
   ]
  },
  {
   "cell_type": "code",
   "execution_count": 3,
   "id": "2d4e5e15-aa0f-4a06-994b-ea861b2a5b5b",
   "metadata": {},
   "outputs": [
    {
     "name": "stdout",
     "output_type": "stream",
     "text": [
      "Dummy dataset 'house_sales.csv' created successfully.\n"
     ]
    }
   ],
   "source": [
    "# Define the number of records in your dataset\n",
    "num_records = 100\n",
    "# Create a dictionary to store the data\n",
    "data = {\n",
    " 'House_ID': range(1, num_records + 1),\n",
    " 'Square_Feet': np.random.randint(1000, 4000, size=num_records),\n",
    " 'Num_Bedrooms': np.random.randint(2, 6, size=num_records),\n",
    " 'Num_Bathrooms': np.random.randint(1, 4, size=num_records),\n",
    " 'Year_Built': np.random.randint(1970, 2023, size=num_records),\n",
    " 'Price': np.random.randint(100000, 800000, size=num_records),\n",
    " 'City': [random.choice(['New York', 'Los Angeles', 'Chicago', 'Houston', 'Phoenix']) for _ in range(num_records)],\n",
    " 'Garage': [random.choice([True, False]) for _ in range(num_records)]\n",
    "}\n",
    "# Create a DataFrame from the dictionary\n",
    "df = pd.DataFrame(data)\n",
    "# Save the DataFrame as a CSV file\n",
    "df.to_csv('house_sales.csv', index=False)\n",
    "print(\"Dummy dataset 'house_sales.csv' created successfully.\")"
   ]
  },
  {
   "cell_type": "code",
   "execution_count": 7,
   "id": "d71f1c5e-a8ac-495a-9059-509ea5c3f668",
   "metadata": {},
   "outputs": [],
   "source": [
    "\n",
    "# Load the dataset\n",
    "data = pd.read_csv(\"house_sales.csv\")"
   ]
  },
  {
   "cell_type": "code",
   "execution_count": 9,
   "id": "0883b366-52aa-4fd7-8e35-3eaf0389f248",
   "metadata": {},
   "outputs": [
    {
     "data": {
      "text/html": [
       "<div>\n",
       "<style scoped>\n",
       "    .dataframe tbody tr th:only-of-type {\n",
       "        vertical-align: middle;\n",
       "    }\n",
       "\n",
       "    .dataframe tbody tr th {\n",
       "        vertical-align: top;\n",
       "    }\n",
       "\n",
       "    .dataframe thead th {\n",
       "        text-align: right;\n",
       "    }\n",
       "</style>\n",
       "<table border=\"1\" class=\"dataframe\">\n",
       "  <thead>\n",
       "    <tr style=\"text-align: right;\">\n",
       "      <th></th>\n",
       "      <th>House_ID</th>\n",
       "      <th>Square_Feet</th>\n",
       "      <th>Num_Bedrooms</th>\n",
       "      <th>Num_Bathrooms</th>\n",
       "      <th>Year_Built</th>\n",
       "      <th>Price</th>\n",
       "      <th>City</th>\n",
       "      <th>Garage</th>\n",
       "    </tr>\n",
       "  </thead>\n",
       "  <tbody>\n",
       "    <tr>\n",
       "      <th>0</th>\n",
       "      <td>1</td>\n",
       "      <td>1735</td>\n",
       "      <td>2</td>\n",
       "      <td>2</td>\n",
       "      <td>2013</td>\n",
       "      <td>114241</td>\n",
       "      <td>Houston</td>\n",
       "      <td>True</td>\n",
       "    </tr>\n",
       "    <tr>\n",
       "      <th>1</th>\n",
       "      <td>2</td>\n",
       "      <td>2320</td>\n",
       "      <td>4</td>\n",
       "      <td>1</td>\n",
       "      <td>2014</td>\n",
       "      <td>329204</td>\n",
       "      <td>Phoenix</td>\n",
       "      <td>True</td>\n",
       "    </tr>\n",
       "    <tr>\n",
       "      <th>2</th>\n",
       "      <td>3</td>\n",
       "      <td>3682</td>\n",
       "      <td>5</td>\n",
       "      <td>2</td>\n",
       "      <td>2014</td>\n",
       "      <td>482686</td>\n",
       "      <td>New York</td>\n",
       "      <td>True</td>\n",
       "    </tr>\n",
       "    <tr>\n",
       "      <th>3</th>\n",
       "      <td>4</td>\n",
       "      <td>1834</td>\n",
       "      <td>5</td>\n",
       "      <td>2</td>\n",
       "      <td>1971</td>\n",
       "      <td>186154</td>\n",
       "      <td>Phoenix</td>\n",
       "      <td>False</td>\n",
       "    </tr>\n",
       "    <tr>\n",
       "      <th>4</th>\n",
       "      <td>5</td>\n",
       "      <td>1307</td>\n",
       "      <td>3</td>\n",
       "      <td>3</td>\n",
       "      <td>2007</td>\n",
       "      <td>338461</td>\n",
       "      <td>Los Angeles</td>\n",
       "      <td>True</td>\n",
       "    </tr>\n",
       "  </tbody>\n",
       "</table>\n",
       "</div>"
      ],
      "text/plain": [
       "   House_ID  Square_Feet  Num_Bedrooms  Num_Bathrooms  Year_Built   Price  \\\n",
       "0         1         1735             2              2        2013  114241   \n",
       "1         2         2320             4              1        2014  329204   \n",
       "2         3         3682             5              2        2014  482686   \n",
       "3         4         1834             5              2        1971  186154   \n",
       "4         5         1307             3              3        2007  338461   \n",
       "\n",
       "          City  Garage  \n",
       "0      Houston    True  \n",
       "1      Phoenix    True  \n",
       "2     New York    True  \n",
       "3      Phoenix   False  \n",
       "4  Los Angeles    True  "
      ]
     },
     "execution_count": 9,
     "metadata": {},
     "output_type": "execute_result"
    }
   ],
   "source": [
    "data.head()\n"
   ]
  },
  {
   "cell_type": "code",
   "execution_count": 11,
   "id": "509dc619-503e-47ec-bb61-4a27d03e20d1",
   "metadata": {},
   "outputs": [
    {
     "data": {
      "text/html": [
       "<div>\n",
       "<style scoped>\n",
       "    .dataframe tbody tr th:only-of-type {\n",
       "        vertical-align: middle;\n",
       "    }\n",
       "\n",
       "    .dataframe tbody tr th {\n",
       "        vertical-align: top;\n",
       "    }\n",
       "\n",
       "    .dataframe thead th {\n",
       "        text-align: right;\n",
       "    }\n",
       "</style>\n",
       "<table border=\"1\" class=\"dataframe\">\n",
       "  <thead>\n",
       "    <tr style=\"text-align: right;\">\n",
       "      <th></th>\n",
       "      <th>House_ID</th>\n",
       "      <th>Square_Feet</th>\n",
       "      <th>Num_Bedrooms</th>\n",
       "      <th>Num_Bathrooms</th>\n",
       "      <th>Year_Built</th>\n",
       "      <th>Price</th>\n",
       "    </tr>\n",
       "  </thead>\n",
       "  <tbody>\n",
       "    <tr>\n",
       "      <th>count</th>\n",
       "      <td>100.000000</td>\n",
       "      <td>100.000000</td>\n",
       "      <td>100.00000</td>\n",
       "      <td>100.000000</td>\n",
       "      <td>100.000000</td>\n",
       "      <td>100.000000</td>\n",
       "    </tr>\n",
       "    <tr>\n",
       "      <th>mean</th>\n",
       "      <td>50.500000</td>\n",
       "      <td>2366.040000</td>\n",
       "      <td>3.72000</td>\n",
       "      <td>1.820000</td>\n",
       "      <td>1995.970000</td>\n",
       "      <td>430895.090000</td>\n",
       "    </tr>\n",
       "    <tr>\n",
       "      <th>std</th>\n",
       "      <td>29.011492</td>\n",
       "      <td>873.972215</td>\n",
       "      <td>1.07384</td>\n",
       "      <td>0.757188</td>\n",
       "      <td>16.016693</td>\n",
       "      <td>182215.052261</td>\n",
       "    </tr>\n",
       "    <tr>\n",
       "      <th>min</th>\n",
       "      <td>1.000000</td>\n",
       "      <td>1026.000000</td>\n",
       "      <td>2.00000</td>\n",
       "      <td>1.000000</td>\n",
       "      <td>1970.000000</td>\n",
       "      <td>100148.000000</td>\n",
       "    </tr>\n",
       "    <tr>\n",
       "      <th>25%</th>\n",
       "      <td>25.750000</td>\n",
       "      <td>1620.000000</td>\n",
       "      <td>3.00000</td>\n",
       "      <td>1.000000</td>\n",
       "      <td>1981.750000</td>\n",
       "      <td>312489.500000</td>\n",
       "    </tr>\n",
       "    <tr>\n",
       "      <th>50%</th>\n",
       "      <td>50.500000</td>\n",
       "      <td>2323.000000</td>\n",
       "      <td>4.00000</td>\n",
       "      <td>2.000000</td>\n",
       "      <td>1995.500000</td>\n",
       "      <td>437591.000000</td>\n",
       "    </tr>\n",
       "    <tr>\n",
       "      <th>75%</th>\n",
       "      <td>75.250000</td>\n",
       "      <td>3051.000000</td>\n",
       "      <td>5.00000</td>\n",
       "      <td>2.000000</td>\n",
       "      <td>2011.000000</td>\n",
       "      <td>556812.250000</td>\n",
       "    </tr>\n",
       "    <tr>\n",
       "      <th>max</th>\n",
       "      <td>100.000000</td>\n",
       "      <td>3952.000000</td>\n",
       "      <td>5.00000</td>\n",
       "      <td>3.000000</td>\n",
       "      <td>2022.000000</td>\n",
       "      <td>785740.000000</td>\n",
       "    </tr>\n",
       "  </tbody>\n",
       "</table>\n",
       "</div>"
      ],
      "text/plain": [
       "         House_ID  Square_Feet  Num_Bedrooms  Num_Bathrooms   Year_Built  \\\n",
       "count  100.000000   100.000000     100.00000     100.000000   100.000000   \n",
       "mean    50.500000  2366.040000       3.72000       1.820000  1995.970000   \n",
       "std     29.011492   873.972215       1.07384       0.757188    16.016693   \n",
       "min      1.000000  1026.000000       2.00000       1.000000  1970.000000   \n",
       "25%     25.750000  1620.000000       3.00000       1.000000  1981.750000   \n",
       "50%     50.500000  2323.000000       4.00000       2.000000  1995.500000   \n",
       "75%     75.250000  3051.000000       5.00000       2.000000  2011.000000   \n",
       "max    100.000000  3952.000000       5.00000       3.000000  2022.000000   \n",
       "\n",
       "               Price  \n",
       "count     100.000000  \n",
       "mean   430895.090000  \n",
       "std    182215.052261  \n",
       "min    100148.000000  \n",
       "25%    312489.500000  \n",
       "50%    437591.000000  \n",
       "75%    556812.250000  \n",
       "max    785740.000000  "
      ]
     },
     "execution_count": 11,
     "metadata": {},
     "output_type": "execute_result"
    }
   ],
   "source": [
    "data.describe()"
   ]
  },
  {
   "cell_type": "code",
   "execution_count": 13,
   "id": "ba9b3b92-eec3-452f-bf0c-fc77f4fa5926",
   "metadata": {},
   "outputs": [
    {
     "data": {
      "text/plain": [
       "House_ID         0\n",
       "Square_Feet      0\n",
       "Num_Bedrooms     0\n",
       "Num_Bathrooms    0\n",
       "Year_Built       0\n",
       "Price            0\n",
       "City             0\n",
       "Garage           0\n",
       "dtype: int64"
      ]
     },
     "execution_count": 13,
     "metadata": {},
     "output_type": "execute_result"
    }
   ],
   "source": [
    "data.isnull().sum()"
   ]
  },
  {
   "cell_type": "code",
   "execution_count": 15,
   "id": "014711e4-d82b-47e6-a376-8d9eae96e172",
   "metadata": {},
   "outputs": [
    {
     "data": {
      "text/plain": [
       "House_ID          int64\n",
       "Square_Feet       int64\n",
       "Num_Bedrooms      int64\n",
       "Num_Bathrooms     int64\n",
       "Year_Built        int64\n",
       "Price             int64\n",
       "City             object\n",
       "Garage             bool\n",
       "dtype: object"
      ]
     },
     "execution_count": 15,
     "metadata": {},
     "output_type": "execute_result"
    }
   ],
   "source": [
    "data.dtypes\n"
   ]
  },
  {
   "cell_type": "code",
   "execution_count": 17,
   "id": "78b370b6-f671-482c-b625-4d43e40f9359",
   "metadata": {},
   "outputs": [
    {
     "name": "stdout",
     "output_type": "stream",
     "text": [
      "<class 'pandas.core.frame.DataFrame'>\n",
      "RangeIndex: 100 entries, 0 to 99\n",
      "Data columns (total 8 columns):\n",
      " #   Column         Non-Null Count  Dtype \n",
      "---  ------         --------------  ----- \n",
      " 0   House_ID       100 non-null    int64 \n",
      " 1   Square_Feet    100 non-null    int64 \n",
      " 2   Num_Bedrooms   100 non-null    int64 \n",
      " 3   Num_Bathrooms  100 non-null    int64 \n",
      " 4   Year_Built     100 non-null    int64 \n",
      " 5   Price          100 non-null    int64 \n",
      " 6   City           100 non-null    object\n",
      " 7   Garage         100 non-null    bool  \n",
      "dtypes: bool(1), int64(6), object(1)\n",
      "memory usage: 5.7+ KB\n"
     ]
    }
   ],
   "source": [
    "data.info()"
   ]
  },
  {
   "cell_type": "code",
   "execution_count": 19,
   "id": "03eae3b1-cf40-45c5-92e7-87b072d058c3",
   "metadata": {},
   "outputs": [
    {
     "data": {
      "image/png": "[encoded data removed]",
      "text/plain": [
       "<Figure size 1000x500 with 1 Axes>"
      ]
     },
     "metadata": {},
     "output_type": "display_data"
    }
   ],
   "source": [
    "\n",
    "# Plot 1: Histogram of Square Feet\n",
    "plt.figure(figsize=(10, 5))\n",
    "plt.hist(data['Square_Feet'], bins=20, edgecolor='k', alpha=0.7)\n",
    "plt.title('Distribution of Square Feet')\n",
    "plt.xlabel('Square Feet')\n",
    "plt.ylabel('Frequency')\n",
    "plt.show()"
   ]
  },
  {
   "cell_type": "code",
   "execution_count": null,
   "id": "762b7ef9-729f-4000-9a20-639dfae9fac9",
   "metadata": {},
   "outputs": [],
   "source": []
  }
 ],
 "metadata": {
  "kernelspec": {
   "display_name": "Python 3 (ipykernel)",
   "language": "python",
   "name": "python3"
  },
  "language_info": {
   "codemirror_mode": {
    "name": "ipython",
    "version": 3
   },
   "file_extension": ".py",
   "mimetype": "text/x-python",
   "name": "python",
   "nbconvert_exporter": "python",
   "pygments_lexer": "ipython3",
   "version": "3.12.4"
  }
 },
 "nbformat": 4,
 "nbformat_minor": 5
}
