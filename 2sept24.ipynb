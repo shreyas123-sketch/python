{
 "cells": [
  {
   "cell_type": "code",
   "execution_count": 11,
   "id": "1139d6ad-9134-4ebf-a4a1-ce453ea69af2",
   "metadata": {},
   "outputs": [
    {
     "name": "stdout",
     "output_type": "stream",
     "text": [
      "0\n",
      "1\n",
      "2\n",
      "3\n",
      "4\n"
     ]
    }
   ],
   "source": [
    "count=0\n",
    "while count<5:\n",
    "    print(count)\n",
    "    count=count+1\n",
    "#prints from 0 to 4"
   ]
  },
  {
   "cell_type": "code",
   "execution_count": 5,
   "id": "34b802a8-a756-4035-8bcb-e9dfb7ac3eb2",
   "metadata": {},
   "outputs": [
    {
     "name": "stdout",
     "output_type": "stream",
     "text": [
      "0\n",
      "1\n",
      "2\n",
      "3\n",
      "4\n",
      "5\n"
     ]
    }
   ],
   "source": [
    "count=0\n",
    "while count<5:\n",
    "    print(count)\n",
    "    count=count+1\n",
    "else:\n",
    "    print(count)\n",
    "    \n",
    "    "
   ]
  },
  {
   "cell_type": "code",
   "execution_count": 13,
   "id": "07b168a9-9891-40fb-abc1-4d1fd03a78e7",
   "metadata": {},
   "outputs": [
    {
     "name": "stdout",
     "output_type": "stream",
     "text": [
      "0\n",
      "1\n",
      "2\n"
     ]
    }
   ],
   "source": [
    "count=0\n",
    "while count<5:\n",
    "    print(count)\n",
    "    count=count+1\n",
    "    if count==3:\n",
    "        break"
   ]
  },
  {
   "cell_type": "code",
   "execution_count": 19,
   "id": "e7843b7e-2165-48cb-9936-60b12b706bdc",
   "metadata": {},
   "outputs": [
    {
     "name": "stdout",
     "output_type": "stream",
     "text": [
      "0\n",
      "1\n",
      "2\n",
      "4\n"
     ]
    }
   ],
   "source": [
    "count=0\n",
    "while count<5:\n",
    "    if count==3:\n",
    "        count=count+1\n",
    "        continue\n",
    "    print(count)\n",
    "    count=count+1\n",
    "#The above while loop only prints 0,1,2 and 4"
   ]
  },
  {
   "cell_type": "code",
   "execution_count": 37,
   "id": "f94a3640-58c9-4758-8f28-8f653595c039",
   "metadata": {},
   "outputs": [],
   "source": [
    "#syntax\n",
    "#Declaring a function\n",
    "def function_name():\n",
    "    codes\n",
    "    codes\n",
    "#Calling a function\n",
    "function_name()"
   ]
  },
  {
   "cell_type": "code",
   "execution_count": 27,
   "id": "9b890f2a-0262-474d-a2bf-bde69eaa9095",
   "metadata": {},
   "outputs": [
    {
     "name": "stdout",
     "output_type": "stream",
     "text": [
      "AsabenehYetayeh\n"
     ]
    }
   ],
   "source": [
    "def generate_full_name():\n",
    "    first_name='Asabeneh'\n",
    "    last_name='Yetayeh'\n",
    "    space=''\n",
    "    full_name=first_name+space+last_name\n",
    "    print(full_name)\n",
    "generate_full_name()#calling a function"
   ]
  },
  {
   "cell_type": "code",
   "execution_count": 33,
   "id": "3563b672-caff-40e0-ab82-285eebdfeb63",
   "metadata": {},
   "outputs": [
    {
     "name": "stdout",
     "output_type": "stream",
     "text": [
      "5\n"
     ]
    }
   ],
   "source": [
    "def add_two_numbers():\n",
    "    num_one=2\n",
    "    num_two=3\n",
    "    total=num_one+num_two\n",
    "    print(total)\n",
    "add_two_numbers()"
   ]
  },
  {
   "cell_type": "code",
   "execution_count": 76,
   "id": "e1ef19de-c4ed-4952-952c-9109e2c95177",
   "metadata": {},
   "outputs": [
    {
     "data": {
      "text/plain": [
       "5"
      ]
     },
     "execution_count": 76,
     "metadata": {},
     "output_type": "execute_result"
    }
   ],
   "source": [
    "def add_two_numbers():\n",
    "    num_one=2\n",
    "    num_two=3\n",
    "    total=num_one+num_two\n",
    "    return total\n",
    "add_two_numbers()"
   ]
  },
  {
   "cell_type": "code",
   "execution_count": 49,
   "id": "e267aecc-a8d9-42de-ad00-571be4c64c62",
   "metadata": {},
   "outputs": [
    {
     "name": "stdout",
     "output_type": "stream",
     "text": [
      "charuwelcome to python for everyone\n",
      "100\n",
      "4\n"
     ]
    }
   ],
   "source": [
    "def greetings(name):\n",
    "    message=name+'welcome to python for everyone'\n",
    "    return message \n",
    "print(greetings('charu'))\n",
    "def add_ten(num):\n",
    "    ten=10\n",
    "    return num+10\n",
    "print(add_ten(90))\n",
    "def square_number(x):\n",
    "    return x*x\n",
    "print(square_number(2))"
   ]
  },
  {
   "cell_type": "code",
   "execution_count": 78,
   "id": "0d56ac5a-50bb-4249-9f3a-dac0ed68545b",
   "metadata": {},
   "outputs": [
    {
     "name": "stdout",
     "output_type": "stream",
     "text": [
      "314.0\n",
      "55\n",
      "5050\n"
     ]
    }
   ],
   "source": [
    "def area_of_circle(r):\n",
    "    Pi=3.14\n",
    "    area=Pi*r**2\n",
    "    return area\n",
    "print(area_of_circle(10))\n",
    "def sum_of_numbers(n):\n",
    "    total=0\n",
    "    for i in range(n+1):\n",
    "        total+=i\n",
    "    return total\n",
    "print(sum_of_numbers(10))\n",
    "print(sum_of_numbers(100))\n",
    "        "
   ]
  },
  {
   "cell_type": "code",
   "execution_count": 80,
   "id": "e1d7c217-1d78-4c72-a8f7-5d8ccee6e456",
   "metadata": {},
   "outputs": [
    {
     "name": "stdout",
     "output_type": "stream",
     "text": [
      "Age: 21\n"
     ]
    }
   ],
   "source": [
    "def calculate_age(current_year,birth_year):\n",
    "    age=current_year-birth_year\n",
    "    return age;\n",
    "print('Age:',calculate_age(2024,2003))"
   ]
  },
  {
   "cell_type": "code",
   "execution_count": 89,
   "id": "1d37fb5d-8bf0-4e17-a71f-1b40428a1b2f",
   "metadata": {},
   "outputs": [
    {
     "name": "stdout",
     "output_type": "stream",
     "text": [
      "weight of an object in newtons: 981.0N\n"
     ]
    }
   ],
   "source": [
    "def weight_of_object(mass,gravity):\n",
    "    weight=str(mass*gravity)+'N'#the value haas to be changed to a string first\n",
    "    return weight\n",
    "print('weight of an object in newtons:',weight_of_object(100,9.81))\n"
   ]
  },
  {
   "cell_type": "code",
   "execution_count": 91,
   "id": "e55969cc-b87d-4a21-96bf-ef88661e0e7d",
   "metadata": {},
   "outputs": [
    {
     "name": "stdout",
     "output_type": "stream",
     "text": [
      "Age: 200\n"
     ]
    }
   ],
   "source": [
    "def calculate_age(birth_year,current_year=2021):\n",
    "    age=current_year-birth_year\n",
    "    return age;\n",
    "print('Age:',calculate_age(1821))"
   ]
  },
  {
   "cell_type": "code",
   "execution_count": 93,
   "id": "b761b92b-0e7b-44ac-b992-f97e51810b3a",
   "metadata": {},
   "outputs": [
    {
     "name": "stdout",
     "output_type": "stream",
     "text": [
      "weight of an object in newtons: 981.0N\n",
      "weight of an object in newtons: 162.0N\n"
     ]
    }
   ],
   "source": [
    "def weight_of_object(mass,gravity=9.81):\n",
    "    weight=str(mass*gravity)+'N'#the value haas to be changed to a string first\n",
    "    return weight\n",
    "print('weight of an object in newtons:',weight_of_object(100))\n",
    "print('weight of an object in newtons:',weight_of_object(100,1.62))\n",
    "\n"
   ]
  },
  {
   "cell_type": "code",
   "execution_count": 10,
   "id": "7af4de7e-530d-4e1d-a34d-3997b305bd5c",
   "metadata": {},
   "outputs": [
    {
     "name": "stdout",
     "output_type": "stream",
     "text": [
      "21.09090909090909\n",
      "22\n",
      "20\n",
      "6.106628291529549\n"
     ]
    }
   ],
   "source": [
    "from statistics import *\n",
    "ages=[20,20,4,24,25,22,26,20,23,22,26]\n",
    "print(mean(ages))\n",
    "print(median(ages))\n",
    "print(mode(ages))\n",
    "print(stdev(ages))"
   ]
  },
  {
   "cell_type": "code",
   "execution_count": 12,
   "id": "e4d29f30-5819-43a3-b15b-6c7300ef77be",
   "metadata": {},
   "outputs": [
    {
     "name": "stdout",
     "output_type": "stream",
     "text": [
      "3.141592653589793\n",
      "4.47213595499958\n",
      "8.0\n",
      "9\n",
      "4\n",
      "2.0\n"
     ]
    }
   ],
   "source": [
    "import math\n",
    "print(math.pi)\n",
    "print(math.sqrt(20))\n",
    "print(math.pow(2,3))\n",
    "print(math.floor(9.81))\n",
    "print(math.ceil(3.43))\n",
    "print(math.log10(100))"
   ]
  },
  {
   "cell_type": "code",
   "execution_count": null,
   "id": "cfb57156-8eec-4284-b160-279d53ed2a2f",
   "metadata": {},
   "outputs": [],
   "source": [
    "# mymodule.py file\n",
    "def generate_full_name(firstname,lastname):\n",
    "    return firstname+''+lastname\n",
    "\n",
    "create main.py.file in your project directory and import the mymodule.py file"
   ]
  },
  {
   "cell_type": "code",
   "execution_count": null,
   "id": "9253c0e1-0cf9-40a5-8fb4-a3ca70368952",
   "metadata": {},
   "outputs": [],
   "source": [
    "#self invoking lambda function\n",
    "(lambda a,b:a+b)(2,3)#5-need to encapsulate it in print() to see the result in the console\n",
    "square=lambda x:x**2\n",
    "print(square(3))\n",
    "cube=lambda x:x**3\n",
    "print(cube(3))\n",
    "#multiple variables\n",
    "multiple_variables=lambda a,b,c:a**2-3"
   ]
  },
  {
   "cell_type": "code",
   "execution_count": null,
   "id": "e1bd51bb-355e-4ef4-b759-07f97c313afc",
   "metadata": {},
   "outputs": [],
   "source": [
    "numbers=[1,2,3,4,5]\n",
    "def square(x):\n",
    "    return x**2\n",
    "    numbers_squared=map(square,numbers)\n",
    "    print(list(numbers_squared))\n",
    "    numbers_squared=map(lambda"
   ]
  },
  {
   "cell_type": "code",
   "execution_count": 23,
   "id": "cfccd94c-7d90-46f0-914b-53088e6ac06e",
   "metadata": {},
   "outputs": [
    {
     "name": "stdout",
     "output_type": "stream",
     "text": [
      "something went wrong\n"
     ]
    }
   ],
   "source": [
    "try:\n",
    "    print(10+'5')\n",
    "except:\n",
    "        print('something went wrong')\n",
    "    "
   ]
  },
  {
   "cell_type": "code",
   "execution_count": 27,
   "id": "ca6d5e4b-936f-4cba-ac35-6a8ca019afad",
   "metadata": {},
   "outputs": [
    {
     "name": "stdin",
     "output_type": "stream",
     "text": [
      "enter your name shreyas\n",
      "year you were born 2003\n"
     ]
    },
    {
     "ename": "TypeError",
     "evalue": "unsupported operand type(s) for -: 'int' and 'str'",
     "output_type": "error",
     "traceback": [
      "\u001b[1;31m---------------------------------------------------------------------------\u001b[0m",
      "\u001b[1;31mTypeError\u001b[0m                                 Traceback (most recent call last)",
      "Cell \u001b[1;32mIn[27], line 3\u001b[0m\n\u001b[0;32m      1\u001b[0m name\u001b[38;5;241m=\u001b[39m\u001b[38;5;28minput\u001b[39m(\u001b[38;5;124m'\u001b[39m\u001b[38;5;124menter your name\u001b[39m\u001b[38;5;124m'\u001b[39m)\n\u001b[0;32m      2\u001b[0m year_born\u001b[38;5;241m=\u001b[39m\u001b[38;5;28minput\u001b[39m(\u001b[38;5;124m'\u001b[39m\u001b[38;5;124myear you were born\u001b[39m\u001b[38;5;124m'\u001b[39m)\n\u001b[1;32m----> 3\u001b[0m age\u001b[38;5;241m=\u001b[39m\u001b[38;5;241m2019\u001b[39m\u001b[38;5;241m-\u001b[39myear_born\n\u001b[0;32m      4\u001b[0m \u001b[38;5;28mprint\u001b[39m(\u001b[38;5;124mf\u001b[39m\u001b[38;5;124m'\u001b[39m\u001b[38;5;124myou are\u001b[39m\u001b[38;5;132;01m{\u001b[39;00mname\u001b[38;5;132;01m}\u001b[39;00m\u001b[38;5;124m.and your age is\u001b[39m\u001b[38;5;132;01m{\u001b[39;00mage\u001b[38;5;132;01m}\u001b[39;00m\u001b[38;5;124m.\u001b[39m\u001b[38;5;124m'\u001b[39m)\n",
      "\u001b[1;31mTypeError\u001b[0m: unsupported operand type(s) for -: 'int' and 'str'"
     ]
    }
   ],
   "source": [
    "name=input('enter your name')\n",
    "year_born=input('year you were born')\n",
    "age=2019-year_born\n",
    "print(f'you are{name}.and your age is{age}.')"
   ]
  },
  {
   "cell_type": "code",
   "execution_count": 29,
   "id": "5ea9573b-4bd5-4365-b1cc-4022eb29894e",
   "metadata": {},
   "outputs": [
    {
     "name": "stdin",
     "output_type": "stream",
     "text": [
      "enter your name shretyas\n",
      "year you were born 2005\n"
     ]
    },
    {
     "name": "stdout",
     "output_type": "stream",
     "text": [
      "something went wrong\n"
     ]
    }
   ],
   "source": [
    "try:\n",
    "    name=input('enter your name')\n",
    "    year_born=input('year you were born')\n",
    "    age=2019-year_born\n",
    "    print(f'you are{name}.and your age is{age}.')\n",
    "except:\n",
    "    print('something went wrong')"
   ]
  },
  {
   "cell_type": "code",
   "execution_count": 31,
   "id": "364cea0c-20c5-45dc-8d42-e824a9e7cdcd",
   "metadata": {},
   "outputs": [
    {
     "name": "stdout",
     "output_type": "stream",
     "text": [
      "[{'fruit': 'banana', 'veg': 'tomato'}, {'fruit': 'orange', 'veg': 'potato'}, {'fruit': 'mango', 'veg': 'cabbage'}, {'fruit': 'lemon', 'veg': 'onion'}, {'fruit': 'lime', 'veg': 'carrot'}]\n"
     ]
    }
   ],
   "source": [
    "fruits=['banana','orange','mango','lemon','lime']\n",
    "vegetables=['tomato','potato','cabbage','onion','carrot']\n",
    "fruits_and_veges=[]\n",
    "for f,v in zip(fruits,vegetables):\n",
    "    fruits_and_veges.append({'fruit':f,'veg':v})\n",
    "\n",
    "print(fruits_and_veges)"
   ]
  },
  {
   "cell_type": "code",
   "execution_count": null,
   "id": "cd66b147-ea7e-42c2-a445-b962459c0c8a",
   "metadata": {},
   "outputs": [],
   "source": []
  }
 ],
 "metadata": {
  "kernelspec": {
   "display_name": "Python 3 (ipykernel)",
   "language": "python",
   "name": "python3"
  },
  "language_info": {
   "codemirror_mode": {
    "name": "ipython",
    "version": 3
   },
   "file_extension": ".py",
   "mimetype": "text/x-python",
   "name": "python",
   "nbconvert_exporter": "python",
   "pygments_lexer": "ipython3",
   "version": "3.12.4"
  }
 },
 "nbformat": 4,
 "nbformat_minor": 5
}
